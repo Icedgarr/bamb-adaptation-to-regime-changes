{
 "cells": [
  {
   "cell_type": "code",
   "execution_count": 21,
   "metadata": {},
   "outputs": [],
   "source": [
    "import numpy as np\n",
    "import matplotlib.pyplot as plt\n",
    "import pandas as pd\n",
    "import pymc3 as pm\n",
    "import statsmodels.api as sm"
   ]
  },
  {
   "cell_type": "code",
   "execution_count": 13,
   "metadata": {},
   "outputs": [],
   "source": [
    "data_path = '../data'\n",
    "df = pd.read_csv(f'{data_path}/all_subjects_with_regime.csv', index_col=0)"
   ]
  },
  {
   "cell_type": "code",
   "execution_count": 14,
   "metadata": {},
   "outputs": [],
   "source": [
    "def create_features(df, features):\n",
    "    cols = list(df.columns) + features\n",
    "    df['t-1_action'] = df.groupby('subject')['action'].shift(1)\n",
    "    df['t-2_action'] = df.groupby('subject')['action'].shift(2)\n",
    "    df['t-1_correct'] = df.groupby('subject')['correct'].shift(1)\n",
    "    df['t-2_correct'] = df.groupby('subject')['correct'].shift(2)\n",
    "    df['t-1_reward'] = df.groupby('subject')['reward'].shift(1)\n",
    "    df['t-2_reward'] = df.groupby('subject')['reward'].shift(2)\n",
    "    df['t-1_action_correct_interaction'] = df['t-1_action'] * df['t-1_correct']\n",
    "    df['t-2_action_correct_interaction'] = df['t-2_action'] * df['t-2_correct']\n",
    "    df['t-1_action_reward_interaction'] = df['t-1_action'] * df['t-1_reward']\n",
    "    df['t-2_action_reward_interaction'] = df['t-2_action'] * df['t-2_reward']\n",
    "    return df[cols]"
   ]
  },
  {
   "cell_type": "code",
   "execution_count": 32,
   "metadata": {},
   "outputs": [],
   "source": [
    "def split_train_test_same_regime(df):\n",
    "    df_train = df[df['obs_num'] <= 600]\n",
    "    df_test = df[(df['obs_num'] > 600) & (df['obs_num'] <= 800)]\n",
    "    return df_train, df_test\n",
    "\n",
    "def split_train_test_change_regime(df):\n",
    "    df_train = df[df['obs_num'] <= 800]\n",
    "    df_test = df[df['obs_num'] > 800]\n",
    "    return df_train, df_test\n",
    "\n",
    "def split_train_test_only_regular(df):\n",
    "    df_train = df[(df['obs_num'] <= 600) & (df['regime'] == 0)]\n",
    "    df_test = df[(df['obs_num'] > 600) & (df['obs_num'] <= 800) & (df['regime'] == 0)]\n",
    "    return df_train, df_test\n",
    "\n",
    "def split_train_test_only_irregular(df):\n",
    "    df_train = df[(df['obs_num'] <= 600) & (df['regime'] == 1)]\n",
    "    df_test = df[(df['obs_num'] > 600) & (df['obs_num'] <= 800) & (df['regime'] == 1)]\n",
    "    return df_train, df_test"
   ]
  },
  {
   "cell_type": "code",
   "execution_count": 16,
   "metadata": {},
   "outputs": [],
   "source": [
    "def prepare_X_y(df, features, target):\n",
    "    df_no_na = df.dropna(subset=features+[target])\n",
    "    X = sm.add_constant(np.array(df_no_na[features]))\n",
    "    y = np.array(df_no_na[target])\n",
    "    return X, y\n",
    "    "
   ]
  },
  {
   "cell_type": "code",
   "execution_count": 29,
   "metadata": {},
   "outputs": [],
   "source": [
    "def logistic_model_factory(X, y):\n",
    "    X = np.asarray(X)\n",
    "    y = np.asarray(y)\n",
    "    with pm.Model() as model:\n",
    "        # Define priors\n",
    "        intercept = pm.Normal('Intercept', 0, sd=10)\n",
    "        coefs = {f'{feature}_coef': pm.Normal(feature, 0, sd=10) for feature in features}\n",
    "        likelihood = pm.math.sigmoid(intercept+coefs['t-1_action_coef']*X[:,1]+coefs['t-2_action_coef']*X[:,2]+\n",
    "                                     coefs['t-1_action_reward_interaction_coef']*X[:,3])\n",
    "        observation = pm.Bernoulli('obs', likelihood, observed= y)\n",
    "    return model\n",
    "\n",
    "def fit_model(model_factory, X, y):\n",
    "    with model_factory(X_train, y_train) as model: \n",
    "        trace = pm.sample(1000)\n",
    "    return trace\n",
    "\n",
    "def create_predictions(model_factory, trace, X, y):\n",
    "    with model_factory(X_test, y_test) as model: \n",
    "        ppc = pm.sample_posterior_predictive(trace)\n",
    "    return ppc\n",
    "\n",
    "def evaluate_predictions(predictions, y):\n",
    "    predictions = pd.DataFrame({'prob_action_1': np.mean(predictions['obs'], axis=0), 'action': y})\n",
    "    predictions['predicted_action'] = (predictions['prob_action_1'] > 0.5).astype(int)\n",
    "    predictions['previous_action'] = predictions['action'].shift(1)\n",
    "    predictions['correct'] = predictions['predicted_action'] == predictions['action']\n",
    "    accuracy = predictions['correct'].mean()\n",
    "    return predictions, accuracy"
   ]
  },
  {
   "cell_type": "code",
   "execution_count": 18,
   "metadata": {},
   "outputs": [],
   "source": [
    "features = ['t-1_action', 't-2_action', 't-1_action_reward_interaction']\n",
    "target = 'action'\n",
    "df = create_features(df, features)"
   ]
  },
  {
   "cell_type": "code",
   "execution_count": 30,
   "metadata": {
    "scrolled": true
   },
   "outputs": [
    {
     "name": "stderr",
     "output_type": "stream",
     "text": [
      "Auto-assigning NUTS sampler...\n",
      "Initializing NUTS using jitter+adapt_diag...\n",
      "Multiprocess sampling (4 chains in 4 jobs)\n",
      "NUTS: [t-1_action_reward_interaction, t-2_action, t-1_action, Intercept]\n",
      "Sampling 4 chains: 100%|██████████| 6000/6000 [00:37<00:00, 158.44draws/s]\n",
      "The acceptance probability does not match the target. It is 0.8890549361632547, but should be close to 0.8. Try to increase the number of tuning steps.\n",
      "100%|██████████| 4000/4000 [00:05<00:00, 700.94it/s]\n"
     ]
    },
    {
     "name": "stdout",
     "output_type": "stream",
     "text": [
      "0.7519648872103705\n"
     ]
    }
   ],
   "source": [
    "# Same regime train and test:\n",
    "df_train, df_test = split_train_test_same_regime(df)\n",
    "X_train, y_train = prepare_X_y(df_train, features, target)\n",
    "X_test, y_test = prepare_X_y(df_test, features, target)\n",
    "\n",
    "trace = fit_model(logistic_model_factory, X_train, y_train)\n",
    "predicted_values = create_predictions(logistic_model_factory, trace, X_test, y_test)\n",
    "predictions, accuracy = evaluate_predictions(predicted_values, y_test)\n",
    "print(accuracy)"
   ]
  },
  {
   "cell_type": "code",
   "execution_count": 37,
   "metadata": {},
   "outputs": [
    {
     "name": "stderr",
     "output_type": "stream",
     "text": [
      "Auto-assigning NUTS sampler...\n",
      "Initializing NUTS using jitter+adapt_diag...\n",
      "Multiprocess sampling (4 chains in 4 jobs)\n",
      "NUTS: [t-1_action_reward_interaction, t-2_action, t-1_action, Intercept]\n",
      "Sampling 4 chains: 100%|██████████| 6000/6000 [00:46<00:00, 130.07draws/s]\n",
      "The acceptance probability does not match the target. It is 0.884546801854314, but should be close to 0.8. Try to increase the number of tuning steps.\n",
      "The acceptance probability does not match the target. It is 0.8811938153220351, but should be close to 0.8. Try to increase the number of tuning steps.\n",
      "The acceptance probability does not match the target. It is 0.8796234992237769, but should be close to 0.8. Try to increase the number of tuning steps.\n",
      "100%|██████████| 4000/4000 [00:05<00:00, 709.69it/s]\n"
     ]
    },
    {
     "name": "stdout",
     "output_type": "stream",
     "text": [
      "0.7553332652852914\n"
     ]
    }
   ],
   "source": [
    "# Change regime train and test:\n",
    "df_train, df_test = split_train_test_change_regime(df)\n",
    "X_train, y_train = prepare_X_y(df_train, features, target)\n",
    "X_test, y_test = prepare_X_y(df_test, features, target)\n",
    "\n",
    "trace = fit_model(logistic_model_factory, X_train, y_train)\n",
    "predicted_values = create_predictions(logistic_model_factory, trace, X_test, y_test)\n",
    "predictions, accuracy = evaluate_predictions(predicted_values, y_test)\n",
    "print(accuracy)"
   ]
  },
  {
   "cell_type": "code",
   "execution_count": 38,
   "metadata": {
    "scrolled": true
   },
   "outputs": [
    {
     "name": "stderr",
     "output_type": "stream",
     "text": [
      "Auto-assigning NUTS sampler...\n",
      "Initializing NUTS using jitter+adapt_diag...\n",
      "Multiprocess sampling (4 chains in 4 jobs)\n",
      "NUTS: [t-1_action_reward_interaction, t-2_action, t-1_action, Intercept]\n",
      "Sampling 4 chains: 100%|██████████| 6000/6000 [00:21<00:00, 275.59draws/s]\n",
      "100%|██████████| 4000/4000 [00:04<00:00, 907.55it/s]\n"
     ]
    },
    {
     "name": "stdout",
     "output_type": "stream",
     "text": [
      "0.7638888888888888\n"
     ]
    }
   ],
   "source": [
    "# Only regular\n",
    "df_train, df_test = split_train_test_only_regular(df)\n",
    "X_train, y_train = prepare_X_y(df_train, features, target)\n",
    "X_test, y_test = prepare_X_y(df_test, features, target)\n",
    "\n",
    "trace = fit_model(logistic_model_factory, X_train, y_train)\n",
    "predicted_values = create_predictions(logistic_model_factory, trace, X_test, y_test)\n",
    "predictions, accuracy = evaluate_predictions(predicted_values, y_test)\n",
    "print(accuracy)"
   ]
  },
  {
   "cell_type": "code",
   "execution_count": 40,
   "metadata": {},
   "outputs": [
    {
     "name": "stderr",
     "output_type": "stream",
     "text": [
      "Auto-assigning NUTS sampler...\n",
      "Initializing NUTS using jitter+adapt_diag...\n",
      "Multiprocess sampling (4 chains in 4 jobs)\n",
      "NUTS: [t-1_action_reward_interaction, t-2_action, t-1_action, Intercept]\n",
      "Sampling 4 chains: 100%|██████████| 6000/6000 [00:16<00:00, 353.39draws/s]\n",
      "100%|██████████| 4000/4000 [00:04<00:00, 975.91it/s]\n"
     ]
    },
    {
     "name": "stdout",
     "output_type": "stream",
     "text": [
      "0.7284512167386855\n"
     ]
    }
   ],
   "source": [
    "# Only irregular\n",
    "df_train, df_test = split_train_test_only_irregular(df)\n",
    "X_train, y_train = prepare_X_y(df_train, features, target)\n",
    "X_test, y_test = prepare_X_y(df_test, features, target)\n",
    "\n",
    "trace = fit_model(logistic_model_factory, X_train, y_train)\n",
    "predicted_values = create_predictions(logistic_model_factory, trace, X_test, y_test)\n",
    "predictions, accuracy = evaluate_predictions(predicted_values, y_test)\n",
    "print(accuracy)"
   ]
  },
  {
   "cell_type": "code",
   "execution_count": null,
   "metadata": {},
   "outputs": [],
   "source": []
  },
  {
   "cell_type": "code",
   "execution_count": null,
   "metadata": {},
   "outputs": [],
   "source": []
  },
  {
   "cell_type": "code",
   "execution_count": null,
   "metadata": {},
   "outputs": [],
   "source": []
  },
  {
   "cell_type": "code",
   "execution_count": null,
   "metadata": {},
   "outputs": [],
   "source": []
  },
  {
   "cell_type": "code",
   "execution_count": null,
   "metadata": {},
   "outputs": [],
   "source": []
  },
  {
   "cell_type": "code",
   "execution_count": null,
   "metadata": {},
   "outputs": [],
   "source": []
  },
  {
   "cell_type": "code",
   "execution_count": null,
   "metadata": {},
   "outputs": [],
   "source": []
  },
  {
   "cell_type": "code",
   "execution_count": null,
   "metadata": {},
   "outputs": [],
   "source": []
  }
 ],
 "metadata": {
  "kernelspec": {
   "display_name": "Python 3",
   "language": "python",
   "name": "python3"
  },
  "language_info": {
   "codemirror_mode": {
    "name": "ipython",
    "version": 3
   },
   "file_extension": ".py",
   "mimetype": "text/x-python",
   "name": "python",
   "nbconvert_exporter": "python",
   "pygments_lexer": "ipython3",
   "version": "3.6.7"
  }
 },
 "nbformat": 4,
 "nbformat_minor": 2
}
